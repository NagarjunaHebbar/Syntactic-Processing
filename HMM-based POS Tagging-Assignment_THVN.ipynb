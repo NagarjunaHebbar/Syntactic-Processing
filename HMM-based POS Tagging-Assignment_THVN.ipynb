{
 "cells": [
  {
   "cell_type": "markdown",
   "metadata": {},
   "source": [
    "## POS tagging using modified Viterbi"
   ]
  },
  {
   "cell_type": "markdown",
   "metadata": {},
   "source": [
    "### Data Preparation"
   ]
  },
  {
   "cell_type": "code",
   "execution_count": 1,
   "metadata": {},
   "outputs": [],
   "source": [
    "#Importing necessary libraries\n",
    "import nltk, re, pprint\n",
    "import numpy as np\n",
    "import pandas as pd\n",
    "import requests\n",
    "import matplotlib.pyplot as plt\n",
    "import seaborn as sns\n",
    "import pprint, time\n",
    "import random\n",
    "import math\n",
    "from collections import Counter\n",
    "from sklearn.model_selection import train_test_split\n",
    "from nltk.tokenize import word_tokenize\n",
    "\n",
    "# Supress Warnings\n",
    "import warnings\n",
    "warnings.filterwarnings('ignore')\n"
   ]
  },
  {
   "cell_type": "code",
   "execution_count": 2,
   "metadata": {
    "scrolled": true
   },
   "outputs": [],
   "source": [
    "# I have downloaded few libraries \n",
    "# importing necessary dependent libraries.\n",
    "#import nltk.corpus\n",
    "#nltk.download('universal_tagset')\n",
    "#nltk.download('punkt')\n",
    "\n"
   ]
  },
  {
   "cell_type": "markdown",
   "metadata": {},
   "source": [
    "## Reading the Dataset"
   ]
  },
  {
   "cell_type": "code",
   "execution_count": 3,
   "metadata": {
    "scrolled": true
   },
   "outputs": [
    {
     "name": "stdout",
     "output_type": "stream",
     "text": [
      "[[('Pierre', 'NOUN'), ('Vinken', 'NOUN'), (',', '.'), ('61', 'NUM'), ('years', 'NOUN'), ('old', 'ADJ'), (',', '.'), ('will', 'VERB'), ('join', 'VERB'), ('the', 'DET'), ('board', 'NOUN'), ('as', 'ADP'), ('a', 'DET'), ('nonexecutive', 'ADJ'), ('director', 'NOUN'), ('Nov.', 'NOUN'), ('29', 'NUM'), ('.', '.')]]\n",
      "\n",
      " Length of Dataset is :  3914\n"
     ]
    }
   ],
   "source": [
    "# reading the Treebank tagged sentences\n",
    "nltk_data = list(nltk.corpus.treebank.tagged_sents(tagset='universal'))\n",
    "\n",
    "# Check the sample data\n",
    "print(nltk_data[:1])\n",
    "\n",
    "#Length of dataset\n",
    "print('\\n','Length of Dataset is : ',len(nltk_data))"
   ]
  },
  {
   "cell_type": "markdown",
   "metadata": {},
   "source": [
    "As mentioned in the problem statement, the train data is divided into 95:5 train and validation data sets"
   ]
  },
  {
   "cell_type": "code",
   "execution_count": 4,
   "metadata": {},
   "outputs": [
    {
     "name": "stdout",
     "output_type": "stream",
     "text": [
      "Length of train set:  3718\n",
      "Length of Validation set:  196\n"
     ]
    }
   ],
   "source": [
    "#Splitting into train and validation data sets\n",
    "random.seed(1234)\n",
    "train_set, validation_set = train_test_split(nltk_data,test_size=0.05,random_state=1)\n",
    "\n",
    "print(\"Length of train set: \",len(train_set))\n",
    "print(\"Length of Validation set: \",len(validation_set))"
   ]
  },
  {
   "cell_type": "markdown",
   "metadata": {},
   "source": [
    "Lets analyze the Train and validation data sets"
   ]
  },
  {
   "cell_type": "code",
   "execution_count": 5,
   "metadata": {},
   "outputs": [
    {
     "name": "stdout",
     "output_type": "stream",
     "text": [
      "Length of Train set words 95668\n"
     ]
    }
   ],
   "source": [
    "#Training Data\n",
    "train_tagged_words = [tup for sent in train_set for tup in sent]\n",
    "print('Length of Train set words',len(train_tagged_words))"
   ]
  },
  {
   "cell_type": "markdown",
   "metadata": {},
   "source": [
    "Now lets analyze the vocaubulary words and tags from the train set."
   ]
  },
  {
   "cell_type": "code",
   "execution_count": 6,
   "metadata": {},
   "outputs": [
    {
     "name": "stdout",
     "output_type": "stream",
     "text": [
      "['he', 'has', 'promised', 'stiffer', 'fines']\n",
      "vocabulary words in train_set are: 11104\n",
      "There are 12 tags in train_set and they are {'CONJ', 'NOUN', 'PRT', 'ADJ', '.', 'X', 'PRON', 'VERB', 'ADV', 'DET', 'ADP', 'NUM'}. \n",
      "\n"
     ]
    }
   ],
   "source": [
    "#convert all the words into lower case.\n",
    "words = [pair[0].lower() for pair in train_tagged_words]\n",
    "\n",
    "#display sample words\n",
    "print(words[:5])\n",
    "\n",
    "#Vocabulary words\n",
    "vocab_words = set(words)\n",
    "\n",
    "#finding out the number of unique words\n",
    "print('vocabulary words in train_set are:',len(vocab_words))\n",
    "\n",
    "# Now check the tags in the train dataset\n",
    "tags = set([pair[1] for pair in train_tagged_words])\n",
    "print(\"There are {} tags in train_set and they are {}. \\n\".format(len(tags),tags))"
   ]
  },
  {
   "cell_type": "code",
   "execution_count": 7,
   "metadata": {},
   "outputs": [
    {
     "name": "stdout",
     "output_type": "stream",
     "text": [
      "Length of validation set words 5008\n"
     ]
    }
   ],
   "source": [
    "# validation Data\n",
    "validation_tagged_words = [tup for sent in validation_set for tup in sent]\n",
    "print('Length of validation set words',len(validation_tagged_words))"
   ]
  },
  {
   "cell_type": "code",
   "execution_count": 8,
   "metadata": {},
   "outputs": [
    {
     "name": "stdout",
     "output_type": "stream",
     "text": [
      "['while', 'the', 'new', 'proposal', 'might']\n",
      "vocabulary words in train_set are: 1780\n",
      "There are 12 tags in train_set and they are {'NOUN', 'NUM', 'PRT', 'ADJ', '.', 'X', 'PRON', 'VERB', 'ADV', 'DET', 'ADP', 'CONJ'}. \n",
      "\n"
     ]
    }
   ],
   "source": [
    "#convert all the words into lower case.\n",
    "words_validation = [pair[0].lower() for pair in validation_tagged_words]\n",
    "\n",
    "#display sample words\n",
    "print(words_validation[:5])\n",
    "\n",
    "#Vocabulary words\n",
    "vocab_words_validation = set(words_validation)\n",
    "\n",
    "#finding out the number of unique words\n",
    "print('vocabulary words in train_set are:',len(vocab_words_validation))\n",
    "\n",
    "# Now check the tags in the train dataset\n",
    "tags_validation = set([pair[1] for pair in validation_tagged_words])\n",
    "print(\"There are {} tags in train_set and they are {}. \\n\".format(len(tags_validation),tags_validation))"
   ]
  },
  {
   "cell_type": "markdown",
   "metadata": {},
   "source": [
    "Lets read the test data as provided in the assignment"
   ]
  },
  {
   "cell_type": "code",
   "execution_count": 9,
   "metadata": {},
   "outputs": [
    {
     "data": {
      "text/plain": [
       "['android', 'is', 'a', 'mobile', 'operating']"
      ]
     },
     "execution_count": 9,
     "metadata": {},
     "output_type": "execute_result"
    }
   ],
   "source": [
    "#Read and store the test data\n",
    "testData = open('Test_sentences.txt')\n",
    "test_data = testData.read()\n",
    "\n",
    "#Tokenize the read file\n",
    "test_set = word_tokenize(test_data)\n",
    "\n",
    "# COnverting the words in lower case format as it will be easy to compare \n",
    "test_set = [w.lower() for w in test_set]\n",
    "\n",
    "#read the sample test data\n",
    "test_set[:5]"
   ]
  },
  {
   "cell_type": "markdown",
   "metadata": {},
   "source": [
    "Lets check the tag words in the entire data set"
   ]
  },
  {
   "cell_type": "code",
   "execution_count": 10,
   "metadata": {},
   "outputs": [
    {
     "name": "stdout",
     "output_type": "stream",
     "text": [
      "[('CONJ', 2265), ('PRON', 2737), ('ADV', 3171), ('PRT', 3219), ('NUM', 3546), ('ADJ', 6397), ('X', 6613), ('DET', 8725), ('ADP', 9857), ('.', 11715), ('VERB', 13564), ('NOUN', 28867)]\n"
     ]
    }
   ],
   "source": [
    "#Check the tags in overall dataset\n",
    "tagged_words_all = [tup for sent in nltk_data for tup in sent]\n",
    "tags_all = [pair[1] for pair in tagged_words_all]\n",
    "tag_counts_all = Counter(tags_all)\n",
    "\n",
    "#Print the counts in sorted order\n",
    "print(sorted(tag_counts_all.items(), key = lambda kv:(kv[1], kv[0])))"
   ]
  },
  {
   "cell_type": "code",
   "execution_count": 11,
   "metadata": {
    "scrolled": true
   },
   "outputs": [
    {
     "data": {
      "image/png": "[encoded data removed]",
      "text/plain": [
       "<Figure size 864x864 with 1 Axes>"
      ]
     },
     "metadata": {},
     "output_type": "display_data"
    }
   ],
   "source": [
    "#Lets plot the count of tags and check it?\n",
    "plt.figure(figsize=(12,12))\n",
    "plt.pie(list(tag_counts_all.values()), labels=list(tag_counts_all.keys()), autopct='%1.1f%%');\n",
    "\n"
   ]
  },
  {
   "cell_type": "markdown",
   "metadata": {},
   "source": [
    "From the above, We can see that there are about 29% of the words occupies with Noun followed by ~14% Verb. Hence Noun is the frequent tag in the collection."
   ]
  },
  {
   "cell_type": "markdown",
   "metadata": {},
   "source": [
    "## POS Tagging Algorithm\n",
    "\n",
    "In this section I will use the HMM algorithm to tag the words.\n",
    "The prime task is to assign the most probable tag to the word in the given sentence. \n",
    "\n",
    "Given a sequence of words to be tagged, the task is to assign the most probable tag to the word.\n",
    "\n",
    "*P(t/w) = P(w/t). P(t) / P(w)*\n",
    "\n",
    "From the above, we can ignore the P(w), and we have to compute the  P(w/t) and P(t).\n",
    "\n",
    "We will be implementing Viterbi Algorithm, We need to compte Emission and Transition Probabilities., In other words, \n",
    "Emmission Probability is P(w/t) and Transisition Probability is P(t)\n",
    "\n",
    "Here w represents word and t represents tag."
   ]
  },
  {
   "cell_type": "code",
   "execution_count": 12,
   "metadata": {},
   "outputs": [],
   "source": [
    "#Computing the probability of word given tag\n",
    "#defining the function for emmission Probability\n",
    "def emission_probability(word, tag, train_bag = train_tagged_words):\n",
    "    tag_list = [pair for pair in train_bag if pair[1]==tag]\n",
    "    count_tag = len(tag_list)\n",
    "    w_given_tag_list = [pair[0] for pair in tag_list if pair[0]==word]\n",
    "    count_w_given_tag = len(w_given_tag_list)\n",
    "    emission_probability = count_w_given_tag/count_tag\n",
    "    return (count_w_given_tag, count_tag, emission_probability)"
   ]
  },
  {
   "cell_type": "markdown",
   "metadata": {},
   "source": [
    "Checking the emmission probability for few sample words in the test data"
   ]
  },
  {
   "cell_type": "code",
   "execution_count": 13,
   "metadata": {},
   "outputs": [
    {
     "name": "stdout",
     "output_type": "stream",
     "text": [
      "Emission Probability for Android as Noun: 0.0\n",
      "Emission Probability for News as Noun: 0.0008007570794205431\n",
      "Emission Probability for News as verb: 0.0\n"
     ]
    }
   ],
   "source": [
    "print('Emission Probability for Android as Noun:',emission_probability('Andriod','NOUN')[2])\n",
    "print('Emission Probability for News as Noun:',emission_probability('news','NOUN')[2])\n",
    "print('Emission Probability for News as verb:',emission_probability('news','VERB')[2])"
   ]
  },
  {
   "cell_type": "markdown",
   "metadata": {},
   "source": [
    "From the above, Emmission probability took two arguments and looks like it is working as expected. "
   ]
  },
  {
   "cell_type": "markdown",
   "metadata": {},
   "source": [
    "Now, Lets create a function for the transition probability which takes again two paramters. "
   ]
  },
  {
   "cell_type": "code",
   "execution_count": 14,
   "metadata": {},
   "outputs": [],
   "source": [
    "#computing probability of tag 2 given tag 1 \n",
    "def transition_probability(t2, t1, train_bag = train_tagged_words):\n",
    "    tags = [pair[1] for pair in train_bag]\n",
    "    count_t1 = len([t for t in tags if t==t1])\n",
    "    count_t2_t1 = 0\n",
    "    for index in range(len(tags)-1):\n",
    "        if tags[index]==t1 and tags[index+1] == t2:\n",
    "            count_t2_t1 += 1\n",
    "    transition_prob = count_t2_t1/count_t1\n",
    "    return (count_t2_t1, count_t1,transition_prob)"
   ]
  },
  {
   "cell_type": "code",
   "execution_count": 15,
   "metadata": {
    "scrolled": true
   },
   "outputs": [
    {
     "name": "stdout",
     "output_type": "stream",
     "text": [
      "There are 332 mentions of CONJ(t1) before VERB(t2) and 2148 mentions of Verb(t1).\n",
      "Transition probability:0.15456238361266295 \n"
     ]
    }
   ],
   "source": [
    "#Testing the transition probability on test data with one sample \n",
    "print(\"There are {} mentions of CONJ(t1) before VERB(t2) and {} mentions of Verb(t1).\\nTransition probability:{} \".format(transition_probability(t2='VERB',t1='CONJ')[0],transition_probability(t2='VERB',t1='CONJ')[1],transition_probability(t2='VERB',t1='CONJ')[2]))"
   ]
  },
  {
   "cell_type": "markdown",
   "metadata": {},
   "source": [
    "From the above, Transition Probability takes two arguments t2 and t1 and looks fine. \n",
    "\n",
    "Lets calculate the transition matrix for the tags in combination."
   ]
  },
  {
   "cell_type": "code",
   "execution_count": 16,
   "metadata": {},
   "outputs": [
    {
     "data": {
      "text/html": [
       "<div>\n",
       "<style scoped>\n",
       "    .dataframe tbody tr th:only-of-type {\n",
       "        vertical-align: middle;\n",
       "    }\n",
       "\n",
       "    .dataframe tbody tr th {\n",
       "        vertical-align: top;\n",
       "    }\n",
       "\n",
       "    .dataframe thead th {\n",
       "        text-align: right;\n",
       "    }\n",
       "</style>\n",
       "<table border=\"1\" class=\"dataframe\">\n",
       "  <thead>\n",
       "    <tr style=\"text-align: right;\">\n",
       "      <th></th>\n",
       "      <th>CONJ</th>\n",
       "      <th>NOUN</th>\n",
       "      <th>PRT</th>\n",
       "      <th>ADJ</th>\n",
       "      <th>.</th>\n",
       "      <th>X</th>\n",
       "      <th>PRON</th>\n",
       "      <th>VERB</th>\n",
       "      <th>ADV</th>\n",
       "      <th>DET</th>\n",
       "      <th>ADP</th>\n",
       "      <th>NUM</th>\n",
       "    </tr>\n",
       "  </thead>\n",
       "  <tbody>\n",
       "    <tr>\n",
       "      <td>CONJ</td>\n",
       "      <td>0.000466</td>\n",
       "      <td>0.349628</td>\n",
       "      <td>0.004190</td>\n",
       "      <td>0.121974</td>\n",
       "      <td>0.035382</td>\n",
       "      <td>0.008845</td>\n",
       "      <td>0.059590</td>\n",
       "      <td>0.154562</td>\n",
       "      <td>0.054469</td>\n",
       "      <td>0.120577</td>\n",
       "      <td>0.049814</td>\n",
       "      <td>0.040503</td>\n",
       "    </tr>\n",
       "    <tr>\n",
       "      <td>NOUN</td>\n",
       "      <td>0.042331</td>\n",
       "      <td>0.264286</td>\n",
       "      <td>0.044224</td>\n",
       "      <td>0.012011</td>\n",
       "      <td>0.240045</td>\n",
       "      <td>0.029228</td>\n",
       "      <td>0.004768</td>\n",
       "      <td>0.146975</td>\n",
       "      <td>0.016743</td>\n",
       "      <td>0.013394</td>\n",
       "      <td>0.176531</td>\n",
       "      <td>0.009463</td>\n",
       "    </tr>\n",
       "    <tr>\n",
       "      <td>PRT</td>\n",
       "      <td>0.002280</td>\n",
       "      <td>0.246254</td>\n",
       "      <td>0.001954</td>\n",
       "      <td>0.085993</td>\n",
       "      <td>0.043648</td>\n",
       "      <td>0.014007</td>\n",
       "      <td>0.018241</td>\n",
       "      <td>0.400326</td>\n",
       "      <td>0.010098</td>\n",
       "      <td>0.101629</td>\n",
       "      <td>0.019544</td>\n",
       "      <td>0.056026</td>\n",
       "    </tr>\n",
       "    <tr>\n",
       "      <td>ADJ</td>\n",
       "      <td>0.016985</td>\n",
       "      <td>0.700033</td>\n",
       "      <td>0.010884</td>\n",
       "      <td>0.067282</td>\n",
       "      <td>0.064479</td>\n",
       "      <td>0.021108</td>\n",
       "      <td>0.000660</td>\n",
       "      <td>0.011544</td>\n",
       "      <td>0.004782</td>\n",
       "      <td>0.004947</td>\n",
       "      <td>0.076022</td>\n",
       "      <td>0.021273</td>\n",
       "    </tr>\n",
       "    <tr>\n",
       "      <td>.</td>\n",
       "      <td>0.058185</td>\n",
       "      <td>0.222342</td>\n",
       "      <td>0.002062</td>\n",
       "      <td>0.043930</td>\n",
       "      <td>0.092254</td>\n",
       "      <td>0.027703</td>\n",
       "      <td>0.065806</td>\n",
       "      <td>0.088757</td>\n",
       "      <td>0.052537</td>\n",
       "      <td>0.172136</td>\n",
       "      <td>0.092433</td>\n",
       "      <td>0.081764</td>\n",
       "    </tr>\n",
       "    <tr>\n",
       "      <td>X</td>\n",
       "      <td>0.010491</td>\n",
       "      <td>0.062947</td>\n",
       "      <td>0.185344</td>\n",
       "      <td>0.016532</td>\n",
       "      <td>0.163726</td>\n",
       "      <td>0.074869</td>\n",
       "      <td>0.055158</td>\n",
       "      <td>0.203942</td>\n",
       "      <td>0.025433</td>\n",
       "      <td>0.055317</td>\n",
       "      <td>0.143538</td>\n",
       "      <td>0.002702</td>\n",
       "    </tr>\n",
       "    <tr>\n",
       "      <td>PRON</td>\n",
       "      <td>0.004985</td>\n",
       "      <td>0.212040</td>\n",
       "      <td>0.013037</td>\n",
       "      <td>0.072853</td>\n",
       "      <td>0.040261</td>\n",
       "      <td>0.093942</td>\n",
       "      <td>0.006902</td>\n",
       "      <td>0.480828</td>\n",
       "      <td>0.035276</td>\n",
       "      <td>0.009586</td>\n",
       "      <td>0.023006</td>\n",
       "      <td>0.007285</td>\n",
       "    </tr>\n",
       "    <tr>\n",
       "      <td>VERB</td>\n",
       "      <td>0.005442</td>\n",
       "      <td>0.111085</td>\n",
       "      <td>0.031250</td>\n",
       "      <td>0.064599</td>\n",
       "      <td>0.035370</td>\n",
       "      <td>0.216807</td>\n",
       "      <td>0.036070</td>\n",
       "      <td>0.168688</td>\n",
       "      <td>0.081468</td>\n",
       "      <td>0.135728</td>\n",
       "      <td>0.090874</td>\n",
       "      <td>0.022621</td>\n",
       "    </tr>\n",
       "    <tr>\n",
       "      <td>ADV</td>\n",
       "      <td>0.006327</td>\n",
       "      <td>0.031635</td>\n",
       "      <td>0.013986</td>\n",
       "      <td>0.128538</td>\n",
       "      <td>0.138528</td>\n",
       "      <td>0.022977</td>\n",
       "      <td>0.015318</td>\n",
       "      <td>0.346653</td>\n",
       "      <td>0.078921</td>\n",
       "      <td>0.068931</td>\n",
       "      <td>0.116550</td>\n",
       "      <td>0.031635</td>\n",
       "    </tr>\n",
       "    <tr>\n",
       "      <td>DET</td>\n",
       "      <td>0.000482</td>\n",
       "      <td>0.638896</td>\n",
       "      <td>0.000241</td>\n",
       "      <td>0.204847</td>\n",
       "      <td>0.018085</td>\n",
       "      <td>0.045696</td>\n",
       "      <td>0.003497</td>\n",
       "      <td>0.038944</td>\n",
       "      <td>0.012539</td>\n",
       "      <td>0.005305</td>\n",
       "      <td>0.009163</td>\n",
       "      <td>0.022305</td>\n",
       "    </tr>\n",
       "    <tr>\n",
       "      <td>ADP</td>\n",
       "      <td>0.000857</td>\n",
       "      <td>0.324660</td>\n",
       "      <td>0.001285</td>\n",
       "      <td>0.105793</td>\n",
       "      <td>0.040261</td>\n",
       "      <td>0.033837</td>\n",
       "      <td>0.069172</td>\n",
       "      <td>0.008352</td>\n",
       "      <td>0.013813</td>\n",
       "      <td>0.323803</td>\n",
       "      <td>0.017025</td>\n",
       "      <td>0.061141</td>\n",
       "    </tr>\n",
       "    <tr>\n",
       "      <td>NUM</td>\n",
       "      <td>0.013397</td>\n",
       "      <td>0.350402</td>\n",
       "      <td>0.027687</td>\n",
       "      <td>0.033343</td>\n",
       "      <td>0.118190</td>\n",
       "      <td>0.214350</td>\n",
       "      <td>0.001191</td>\n",
       "      <td>0.016672</td>\n",
       "      <td>0.002977</td>\n",
       "      <td>0.003275</td>\n",
       "      <td>0.033641</td>\n",
       "      <td>0.184876</td>\n",
       "    </tr>\n",
       "  </tbody>\n",
       "</table>\n",
       "</div>"
      ],
      "text/plain": [
       "          CONJ      NOUN       PRT       ADJ         .         X      PRON  \\\n",
       "CONJ  0.000466  0.349628  0.004190  0.121974  0.035382  0.008845  0.059590   \n",
       "NOUN  0.042331  0.264286  0.044224  0.012011  0.240045  0.029228  0.004768   \n",
       "PRT   0.002280  0.246254  0.001954  0.085993  0.043648  0.014007  0.018241   \n",
       "ADJ   0.016985  0.700033  0.010884  0.067282  0.064479  0.021108  0.000660   \n",
       ".     0.058185  0.222342  0.002062  0.043930  0.092254  0.027703  0.065806   \n",
       "X     0.010491  0.062947  0.185344  0.016532  0.163726  0.074869  0.055158   \n",
       "PRON  0.004985  0.212040  0.013037  0.072853  0.040261  0.093942  0.006902   \n",
       "VERB  0.005442  0.111085  0.031250  0.064599  0.035370  0.216807  0.036070   \n",
       "ADV   0.006327  0.031635  0.013986  0.128538  0.138528  0.022977  0.015318   \n",
       "DET   0.000482  0.638896  0.000241  0.204847  0.018085  0.045696  0.003497   \n",
       "ADP   0.000857  0.324660  0.001285  0.105793  0.040261  0.033837  0.069172   \n",
       "NUM   0.013397  0.350402  0.027687  0.033343  0.118190  0.214350  0.001191   \n",
       "\n",
       "          VERB       ADV       DET       ADP       NUM  \n",
       "CONJ  0.154562  0.054469  0.120577  0.049814  0.040503  \n",
       "NOUN  0.146975  0.016743  0.013394  0.176531  0.009463  \n",
       "PRT   0.400326  0.010098  0.101629  0.019544  0.056026  \n",
       "ADJ   0.011544  0.004782  0.004947  0.076022  0.021273  \n",
       ".     0.088757  0.052537  0.172136  0.092433  0.081764  \n",
       "X     0.203942  0.025433  0.055317  0.143538  0.002702  \n",
       "PRON  0.480828  0.035276  0.009586  0.023006  0.007285  \n",
       "VERB  0.168688  0.081468  0.135728  0.090874  0.022621  \n",
       "ADV   0.346653  0.078921  0.068931  0.116550  0.031635  \n",
       "DET   0.038944  0.012539  0.005305  0.009163  0.022305  \n",
       "ADP   0.008352  0.013813  0.323803  0.017025  0.061141  \n",
       "NUM   0.016672  0.002977  0.003275  0.033641  0.184876  "
      ]
     },
     "execution_count": 16,
     "metadata": {},
     "output_type": "execute_result"
    }
   ],
   "source": [
    "tags_matrix = np.zeros((len(tags), len(tags)), dtype='float32')\n",
    "for i, t1 in enumerate(list(tags)):\n",
    "    for j, t2 in enumerate(list(tags)): \n",
    "        tags_matrix[i, j] = transition_probability(t2, t1)[0]/transition_probability(t2, t1)[1]\n",
    "        if (tags_matrix[i, j]==0):\n",
    "            print(i,j)\n",
    "tags_df = pd.DataFrame(tags_matrix, columns = list(tags), index=list(tags))\n",
    "tags_df"
   ]
  },
  {
   "cell_type": "code",
   "execution_count": 17,
   "metadata": {},
   "outputs": [
    {
     "data": {
      "text/plain": [
       "0.18487646"
      ]
     },
     "execution_count": 17,
     "metadata": {},
     "output_type": "execute_result"
    }
   ],
   "source": [
    "#checking transition matrix \n",
    "tags_df.min().min()\n",
    "tags_df['NUM']['NUM']"
   ]
  },
  {
   "cell_type": "markdown",
   "metadata": {},
   "source": [
    "From the above, it looks fine with the above lookup matrix with the tags.\n",
    "\n",
    "Now since we have defined both Emission and Transition Probablities now lets proceed to define the Viterbi Algorithm.\n",
    "\n",
    "The basic notion of Viterbi Algorithm is:\n",
    "\n",
    "P(Tj | Wi) = P(Wi | Tj) * P(Tj | Tj-1)\n",
    "\n",
    "Where Tj is the current tag\n",
    "      Wi is the current word\n",
    "      Tj-1 is the previous tag\n",
    "\n",
    "This likelihood function is called state probability and can be written as: state_probability = transition_probability * emission_probability.\n",
    "\n",
    "That's what we will do in the Viterbi Algorithm defined below."
   ]
  },
  {
   "cell_type": "markdown",
   "metadata": {},
   "source": [
    "Lets draw heat map between the Dataframe"
   ]
  },
  {
   "cell_type": "code",
   "execution_count": 18,
   "metadata": {},
   "outputs": [
    {
     "data": {
      "image/png": "[encoded data removed]",
      "text/plain": [
       "<Figure size 1296x864 with 2 Axes>"
      ]
     },
     "metadata": {
      "needs_background": "light"
     },
     "output_type": "display_data"
    }
   ],
   "source": [
    "# heat map of the tag words\n",
    "plt.figure(figsize=(18, 12))\n",
    "sns.heatmap(tags_df)\n",
    "plt.show()"
   ]
  },
  {
   "cell_type": "markdown",
   "metadata": {},
   "source": [
    "### Build the vanilla Viterbi based POS tagger"
   ]
  },
  {
   "cell_type": "code",
   "execution_count": 19,
   "metadata": {},
   "outputs": [],
   "source": [
    "# creating Viterbi function \n",
    "def Viterbi(words, method, train_bag = train_tagged_words):\n",
    "    state = []\n",
    "    T = list(set([pair[1] for pair in train_bag]))\n",
    "    \n",
    "    T.sort(reverse=True)\n",
    "    print(\"Default tag list is: \", T)\n",
    "\n",
    "    unknown_words=[]\n",
    "    \n",
    "    known_words = list(set([pair[0] for pair in train_bag]))\n",
    "\n",
    "    for w in words:\n",
    "        if w not in known_words:\n",
    "            unknown_words.append(w)\n",
    "\n",
    "    print(\"Number of KNOWN words in this run are:\",len(known_words))\n",
    "    print(\"Number of Unknown words in this run are:\",len(unknown_words))\n",
    "    \n",
    "    for key, word in enumerate(words):\n",
    "        p = [] \n",
    "        for tag in T:\n",
    "           \n",
    "            if key == 0:\n",
    "                transition_p = tags_df.loc['.', tag]\n",
    "            else:\n",
    "                transition_p = tags_df.loc[state[-1], tag]   \n",
    "                \n",
    "            emission_p = float(emission_probability(words[key], tag)[2])\n",
    "\n",
    "            state_probability = emission_p * transition_p \n",
    "\n",
    "            p.append(state_probability)\n",
    "        \n",
    "        pmax = max(p)\n",
    "        state_max = T[p.index(pmax)] \n",
    "        state.append(state_max)\n",
    "\n",
    "    tag_seq = list(zip(words, state))\n",
    "    print(\"Tagged Unknown Words are: \")\n",
    "    for i in range(len(tag_seq)):\n",
    "        if tag_seq[i][0] in unknown_words:\n",
    "            print(tag_seq[i])\n",
    "    return tag_seq"
   ]
  },
  {
   "cell_type": "markdown",
   "metadata": {},
   "source": [
    "We have defined the viterbi Algorithm, now we will proceed with the Vanilla algorithm on the test test. \n",
    "\n",
    "We will be using 2 algorithms:\n",
    "    \n",
    "    1)Viterbi - Viterbi Vanilla is not able to handle  \n",
    "    \n",
    "    2) Viterbi Modified - Basic Viterbi code is modified to handle the Unknown words.\n",
    "\n",
    "We will use three methods to tests out the unknown words tagging:\n",
    "\n",
    "    1) Laplace Smoothing\n",
    "    \n",
    "    2) Rule based Tagging\n",
    "\n",
    "    3) ngram_tagger - using ngram technique to handle unknown words. "
   ]
  },
  {
   "cell_type": "code",
   "execution_count": 20,
   "metadata": {},
   "outputs": [],
   "source": [
    "# Considering the two methods  to make methods and accuracy of the methods\n",
    "method_list=[]\n",
    "accuracy_list=[]\n",
    "\n",
    "#creating a function to handle the unknown words which takes two arguments.\n",
    "def validation_testing(algorithm,method):\n",
    "    # the complete algorithm takes 3 to 4 hours to run. \n",
    "    random.seed(1234)\n",
    "\n",
    "    #Choosing random 5 sentences\n",
    "    rndom = [random.randint(1,len(validation_set)) for x in range(5)]\n",
    "    validation_run = [validation_set[i] for i in rndom]\n",
    "    \n",
    "    #List of Word-tags in those sentences for accuracy calculation later\n",
    "    validation_run_base = [tup for sent in validation_run for tup in sent]\n",
    "\n",
    "    #List of words\n",
    "    validation_tagged_words = [tup[0] for sent in validation_run for tup in sent]\n",
    "    \n",
    "    #Start time\n",
    "    start = time.time()\n",
    "\n",
    "    #Actual Tagging\n",
    "    validation_seq = algorithm((validation_tagged_words),method)\n",
    "\n",
    "    #End Time\n",
    "    end = time.time()\n",
    "\n",
    "    #Actual execution time\n",
    "    difference = end-start\n",
    "\n",
    "    print(\"Time taken to run the task: \", difference)\n",
    "\n",
    "    # Calculate the accuarcy\n",
    "    #Check the word-tags in the validation_set against the word-tag as predicted by Viterbi\n",
    "    check = [i for i, j in zip(validation_seq, validation_run_base) if i == j] \n",
    "\n",
    "    #Accuracy\n",
    "    accuracy = round((len(check)/len(validation_seq))*100)\n",
    "    print('Prediction of Accuracy in Validation set is {}% '.format(accuracy))\n",
    "    \n",
    "    #Append the method and accuracy to the list\n",
    "    method_list.append(method)\n",
    "    accuracy_list.append(accuracy)"
   ]
  },
  {
   "cell_type": "code",
   "execution_count": 21,
   "metadata": {},
   "outputs": [
    {
     "name": "stdout",
     "output_type": "stream",
     "text": [
      "Default tag list is:  ['X', 'VERB', 'PRT', 'PRON', 'NUM', 'NOUN', 'DET', 'CONJ', 'ADV', 'ADP', 'ADJ', '.']\n",
      "Number of KNOWN words in this run are: 12097\n",
      "Number of Unknown words in this run are: 10\n",
      "Tagged Unknown Words are: \n",
      "('seven-yen', 'X')\n",
      "('pledged', 'X')\n",
      "('modernization', 'X')\n",
      "('impeding', 'X')\n",
      "('*T*-117', 'X')\n",
      "('Jennison', 'X')\n",
      "('7.79', 'X')\n",
      "('7.52', 'X')\n",
      "('7.60', 'X')\n",
      "('suddenly', 'X')\n",
      "Time taken to run the task:  15.510029077529907\n",
      "Prediction of Accuracy in Validation set is 87% \n"
     ]
    }
   ],
   "source": [
    "# Checking the Viterbi vanilla method on Validation set\n",
    "validation_testing(Viterbi,'Vanilla')"
   ]
  },
  {
   "cell_type": "code",
   "execution_count": 22,
   "metadata": {},
   "outputs": [],
   "source": [
    "# Creating function to verify the Algorithm and method in the test data set\n",
    "def test_testing(algorithm,method):\n",
    "    #Check the start and End Time for execution\n",
    "    start = time.time()\n",
    "\n",
    "    #Test the Vanilla Viterbi on test Set\n",
    "    test_sequence = algorithm(test_set,method)\n",
    "    print(\"\\nTagged words in the Test Set are:\\n\")\n",
    "    print(test_sequence)\n",
    "\n",
    "    #End time\n",
    "    end = time.time()\n",
    "\n",
    "    #Time taken\n",
    "    difference = end-start\n",
    "    print(\"Time taken for executing the Algorithm in test set: \", difference)"
   ]
  },
  {
   "cell_type": "code",
   "execution_count": 23,
   "metadata": {
    "scrolled": true
   },
   "outputs": [
    {
     "name": "stdout",
     "output_type": "stream",
     "text": [
      "Default tag list is:  ['X', 'VERB', 'PRT', 'PRON', 'NUM', 'NOUN', 'DET', 'CONJ', 'ADV', 'ADP', 'ADJ', '.']\n",
      "Number of KNOWN words in this run are: 12097\n",
      "Number of Unknown words in this run are: 49\n",
      "Tagged Unknown Words are: \n",
      "('android', 'X')\n",
      "('google', 'X')\n",
      "('android', 'X')\n",
      "('os', 'X')\n",
      "('worldwide', 'X')\n",
      "('smartphones', 'X')\n",
      "('2011', 'X')\n",
      "('2013', 'X')\n",
      "('google', 'X')\n",
      "('twitter', 'X')\n",
      "('2015', 'X')\n",
      "('google', 'X')\n",
      "('twitter', 'X')\n",
      "('firehose', 'X')\n",
      "('twitter', 'X')\n",
      "('online', 'X')\n",
      "('interact', 'X')\n",
      "('messages', 'X')\n",
      "('tweets', 'X')\n",
      "('donald', 'X')\n",
      "('trump', 'X')\n",
      "('domineering', 'X')\n",
      "('personality', 'X')\n",
      "('2018', 'X')\n",
      "('fifa', 'X')\n",
      "('cup', 'X')\n",
      "('21st', 'X')\n",
      "('fifa', 'X')\n",
      "('cup', 'X')\n",
      "('tournament', 'X')\n",
      "('contested', 'X')\n",
      "('cup', 'X')\n",
      "('eastern', 'X')\n",
      "('europe', 'X')\n",
      "('europe', 'X')\n",
      "('trips', 'X')\n",
      "('dallas', 'X')\n",
      "('atlanta', 'X')\n",
      "('i', 'X')\n",
      "('denver', 'X')\n",
      "('philadelphia', 'X')\n",
      "('atlanta', 'X')\n",
      "('arriving', 'X')\n",
      "('san', 'X')\n",
      "('francisco', 'X')\n",
      "('nasa', 'X')\n",
      "('invited', 'X')\n",
      "('icesat-2', 'X')\n",
      "('satellite', 'X')\n",
      "\n",
      "Tagged words in the Test Set are:\n",
      "\n",
      "[('android', 'X'), ('is', 'VERB'), ('a', 'DET'), ('mobile', 'ADJ'), ('operating', 'NOUN'), ('system', 'NOUN'), ('developed', 'VERB'), ('by', 'ADP'), ('google', 'X'), ('.', '.'), ('android', 'X'), ('has', 'VERB'), ('been', 'VERB'), ('the', 'DET'), ('best-selling', 'ADJ'), ('os', 'X'), ('worldwide', 'X'), ('on', 'ADP'), ('smartphones', 'X'), ('since', 'ADP'), ('2011', 'X'), ('and', 'CONJ'), ('on', 'ADP'), ('tablets', 'NOUN'), ('since', 'ADP'), ('2013', 'X'), ('.', '.'), ('google', 'X'), ('and', 'CONJ'), ('twitter', 'X'), ('made', 'VERB'), ('a', 'DET'), ('deal', 'NOUN'), ('in', 'ADP'), ('2015', 'X'), ('that', 'ADP'), ('gave', 'VERB'), ('google', 'X'), ('access', 'NOUN'), ('to', 'PRT'), ('twitter', 'X'), (\"'s\", 'PRT'), ('firehose', 'X'), ('.', '.'), ('twitter', 'X'), ('is', 'VERB'), ('an', 'DET'), ('online', 'X'), ('news', 'NOUN'), ('and', 'CONJ'), ('social', 'ADJ'), ('networking', 'NOUN'), ('service', 'NOUN'), ('on', 'ADP'), ('which', 'DET'), ('users', 'NOUN'), ('post', 'NOUN'), ('and', 'CONJ'), ('interact', 'X'), ('with', 'ADP'), ('messages', 'X'), ('known', 'VERB'), ('as', 'ADP'), ('tweets', 'X'), ('.', '.'), ('before', 'ADP'), ('entering', 'VERB'), ('politics', 'NOUN'), (',', '.'), ('donald', 'X'), ('trump', 'X'), ('was', 'VERB'), ('a', 'DET'), ('domineering', 'X'), ('businessman', 'NOUN'), ('and', 'CONJ'), ('a', 'DET'), ('television', 'NOUN'), ('personality', 'X'), ('.', '.'), ('the', 'DET'), ('2018', 'X'), ('fifa', 'X'), ('world', 'NOUN'), ('cup', 'X'), ('is', 'VERB'), ('the', 'DET'), ('21st', 'X'), ('fifa', 'X'), ('world', 'NOUN'), ('cup', 'X'), (',', '.'), ('an', 'DET'), ('international', 'ADJ'), ('football', 'NOUN'), ('tournament', 'X'), ('contested', 'X'), ('once', 'ADV'), ('every', 'DET'), ('four', 'NUM'), ('years', 'NOUN'), ('.', '.'), ('this', 'DET'), ('is', 'VERB'), ('the', 'DET'), ('first', 'ADJ'), ('world', 'NOUN'), ('cup', 'X'), ('to', 'PRT'), ('be', 'VERB'), ('held', 'VERB'), ('in', 'ADP'), ('eastern', 'X'), ('europe', 'X'), ('and', 'CONJ'), ('the', 'DET'), ('11th', 'ADJ'), ('time', 'NOUN'), ('that', 'ADP'), ('it', 'PRON'), ('has', 'VERB'), ('been', 'VERB'), ('held', 'VERB'), ('in', 'ADP'), ('europe', 'X'), ('.', '.'), ('show', 'NOUN'), ('me', 'PRON'), ('the', 'DET'), ('cheapest', 'ADJ'), ('round', 'NOUN'), ('trips', 'X'), ('from', 'ADP'), ('dallas', 'X'), ('to', 'PRT'), ('atlanta', 'X'), ('i', 'X'), ('would', 'VERB'), ('like', 'ADP'), ('to', 'PRT'), ('see', 'VERB'), ('flights', 'NOUN'), ('from', 'ADP'), ('denver', 'X'), ('to', 'PRT'), ('philadelphia', 'X'), ('.', '.'), ('show', 'NOUN'), ('me', 'PRON'), ('the', 'DET'), ('price', 'NOUN'), ('of', 'ADP'), ('the', 'DET'), ('flights', 'NOUN'), ('leaving', 'VERB'), ('atlanta', 'X'), ('at', 'ADP'), ('about', 'ADP'), ('3', 'NUM'), ('in', 'ADP'), ('the', 'DET'), ('afternoon', 'NOUN'), ('and', 'CONJ'), ('arriving', 'X'), ('in', 'ADP'), ('san', 'X'), ('francisco', 'X'), ('.', '.'), ('nasa', 'X'), ('invited', 'X'), ('social', 'ADJ'), ('media', 'NOUN'), ('users', 'NOUN'), ('to', 'PRT'), ('experience', 'NOUN'), ('the', 'DET'), ('launch', 'NOUN'), ('of', 'ADP'), ('icesat-2', 'X'), ('satellite', 'X'), ('.', '.')]\n",
      "Time taken for executing the Algorithm in test set:  20.541229009628296\n"
     ]
    }
   ],
   "source": [
    "#Test Viterbi algorithm on Vanilla method on test set\n",
    "test_testing(Viterbi,'Vanilla')"
   ]
  },
  {
   "cell_type": "markdown",
   "metadata": {},
   "source": [
    "## Modified Viterbi Algorithm"
   ]
  },
  {
   "cell_type": "code",
   "execution_count": 24,
   "metadata": {},
   "outputs": [],
   "source": [
    "# modifying the Viterbi Algorithm. In this modification we are passing one additional input parameter to handle the unknown words\n",
    "\n",
    "def Viterbi_modified(words,method, n=2,train_bag = train_tagged_words):\n",
    "    state = []\n",
    "    \n",
    "    T = list(set([pair[1] for pair in train_bag]))\n",
    "\n",
    "    T.sort(reverse=True)\n",
    "    print(\"Default tag list is: \", T)\n",
    "    \n",
    "    unknown_words=[]\n",
    "    \n",
    "    #Check for vocab words / known words\n",
    "    known_words = list(set([pair[0] for pair in train_bag]))\n",
    "\n",
    "    for w in words:\n",
    "        if w not in known_words:\n",
    "            unknown_words.append(w)\n",
    "            \n",
    "    #Check number of known words and Unknown words in the run\n",
    "    print(\"Number of KNOWN words are:\",len(known_words))\n",
    "    print(\"Number of Unknown words are:\",len(unknown_words))\n",
    "    print('Method used for tagging Unknown Words is:', method)\n",
    "    \n",
    "   \n",
    "    for key, word in enumerate(words):\n",
    "        #initialise list of probability column for a given observation\n",
    "        p = [] \n",
    "        for tag in T:\n",
    "            # computing the transition Probabilites\n",
    "            if key == 0:\n",
    "                transition_p = tags_df.loc['.', tag]\n",
    "            else:\n",
    "                transition_p = tags_df.loc[state[-1], tag]   \n",
    "                \n",
    "            #Computing  Emission probabilities\n",
    "           \n",
    "            emission_p = float(emission_probability(words[key], tag)[2])\n",
    "            \n",
    "            if(method=='laplace_smoothing'):\n",
    "                if(emission_p==0):\n",
    "                    emission_p = float((emission_probability(words[key], tag)[0] + 1)/ + (emission_probability(words[key], tag)[1] + len(train_bag)))\n",
    "            \n",
    "            #Calculating  state probabilities\n",
    "            state_probability = emission_p * transition_p \n",
    "            \n",
    "            p.append(state_probability)\n",
    "        \n",
    "        pmax = max(p)\n",
    "        if pmax ==0.0:\n",
    "            #methods to handle unknown words\n",
    "            #ngram Tagger\n",
    "            if(method=='ngram_Tagger'):\n",
    "                state_max = ngram_Tagger(words[key],n=n)\n",
    "                #Rule Based tagger\n",
    "            elif(method=='rule_tagger'):\n",
    "                state_max = rule_tagger(words[key])\n",
    "            \n",
    "        else:\n",
    "    \n",
    "            state_max = T[p.index(pmax)] \n",
    "        state.append(state_max)\n",
    "    #Final Word-Tag sequence\n",
    "    tag_seq = list(zip(words, state))\n",
    "    \n",
    "   \n",
    "    print(\"Tagged Unknown Words are: \")\n",
    "    for i in range(len(tag_seq)):\n",
    "        if tag_seq[i][0] in unknown_words:\n",
    "            print(tag_seq[i])\n",
    "            \n",
    "    return tag_seq"
   ]
  },
  {
   "cell_type": "markdown",
   "metadata": {},
   "source": [
    "## Laplace Smooting "
   ]
  },
  {
   "cell_type": "code",
   "execution_count": 25,
   "metadata": {},
   "outputs": [
    {
     "name": "stdout",
     "output_type": "stream",
     "text": [
      "Default tag list is:  ['X', 'VERB', 'PRT', 'PRON', 'NUM', 'NOUN', 'DET', 'CONJ', 'ADV', 'ADP', 'ADJ', '.']\n",
      "Number of KNOWN words are: 12097\n",
      "Number of Unknown words are: 10\n",
      "Method used for tagging Unknown Words is: laplace_smoothing\n",
      "Tagged Unknown Words are: \n",
      "('seven-yen', 'NOUN')\n",
      "('pledged', '.')\n",
      "('modernization', 'DET')\n",
      "('impeding', 'VERB')\n",
      "('*T*-117', 'DET')\n",
      "('Jennison', '.')\n",
      "('7.79', 'DET')\n",
      "('7.52', 'DET')\n",
      "('7.60', 'DET')\n",
      "('suddenly', 'X')\n",
      "Time taken to run the task:  42.55595874786377\n",
      "Prediction of Accuracy in Validation set is 87% \n"
     ]
    }
   ],
   "source": [
    "#Checking the Laplace smooting modification on modified viterbi Algorithm on validation set\n",
    "\n",
    "validation_testing(Viterbi_modified,'laplace_smoothing')"
   ]
  },
  {
   "cell_type": "code",
   "execution_count": 26,
   "metadata": {
    "scrolled": true
   },
   "outputs": [
    {
     "name": "stdout",
     "output_type": "stream",
     "text": [
      "Default tag list is:  ['X', 'VERB', 'PRT', 'PRON', 'NUM', 'NOUN', 'DET', 'CONJ', 'ADV', 'ADP', 'ADJ', '.']\n",
      "Number of KNOWN words are: 12097\n",
      "Number of Unknown words are: 49\n",
      "Method used for tagging Unknown Words is: laplace_smoothing\n",
      "Tagged Unknown Words are: \n",
      "('android', 'NOUN')\n",
      "('google', 'DET')\n",
      "('android', 'NOUN')\n",
      "('os', 'NOUN')\n",
      "('worldwide', '.')\n",
      "('smartphones', 'DET')\n",
      "('2011', 'DET')\n",
      "('2013', 'DET')\n",
      "('google', 'NOUN')\n",
      "('twitter', 'NOUN')\n",
      "('2015', 'DET')\n",
      "('google', 'X')\n",
      "('twitter', 'VERB')\n",
      "('firehose', 'VERB')\n",
      "('twitter', 'NOUN')\n",
      "('online', 'NOUN')\n",
      "('interact', 'NOUN')\n",
      "('messages', 'DET')\n",
      "('tweets', 'DET')\n",
      "('donald', 'NOUN')\n",
      "('trump', '.')\n",
      "('domineering', 'NOUN')\n",
      "('personality', '.')\n",
      "('2018', 'NOUN')\n",
      "('fifa', '.')\n",
      "('cup', '.')\n",
      "('21st', 'NOUN')\n",
      "('fifa', '.')\n",
      "('cup', '.')\n",
      "('tournament', '.')\n",
      "('contested', 'NOUN')\n",
      "('cup', '.')\n",
      "('eastern', 'DET')\n",
      "('europe', 'NOUN')\n",
      "('europe', 'DET')\n",
      "('trips', '.')\n",
      "('dallas', 'DET')\n",
      "('atlanta', 'VERB')\n",
      "('i', 'X')\n",
      "('denver', 'DET')\n",
      "('philadelphia', 'VERB')\n",
      "('atlanta', 'X')\n",
      "('arriving', 'NOUN')\n",
      "('san', 'DET')\n",
      "('francisco', 'NOUN')\n",
      "('nasa', 'NOUN')\n",
      "('invited', '.')\n",
      "('icesat-2', 'DET')\n",
      "('satellite', 'NOUN')\n",
      "\n",
      "Tagged words in the Test Set are:\n",
      "\n",
      "[('android', 'NOUN'), ('is', 'VERB'), ('a', 'DET'), ('mobile', 'ADJ'), ('operating', 'NOUN'), ('system', 'NOUN'), ('developed', 'VERB'), ('by', 'ADP'), ('google', 'DET'), ('.', '.'), ('android', 'NOUN'), ('has', 'VERB'), ('been', 'VERB'), ('the', 'DET'), ('best-selling', 'ADJ'), ('os', 'NOUN'), ('worldwide', '.'), ('on', 'ADP'), ('smartphones', 'DET'), ('since', 'ADP'), ('2011', 'DET'), ('and', 'CONJ'), ('on', 'ADP'), ('tablets', 'NOUN'), ('since', 'ADP'), ('2013', 'DET'), ('.', '.'), ('google', 'NOUN'), ('and', 'CONJ'), ('twitter', 'NOUN'), ('made', 'VERB'), ('a', 'DET'), ('deal', 'NOUN'), ('in', 'ADP'), ('2015', 'DET'), ('that', 'ADP'), ('gave', 'VERB'), ('google', 'X'), ('access', 'NOUN'), ('to', 'PRT'), ('twitter', 'VERB'), (\"'s\", 'PRT'), ('firehose', 'VERB'), ('.', '.'), ('twitter', 'NOUN'), ('is', 'VERB'), ('an', 'DET'), ('online', 'NOUN'), ('news', 'NOUN'), ('and', 'CONJ'), ('social', 'ADJ'), ('networking', 'NOUN'), ('service', 'NOUN'), ('on', 'ADP'), ('which', 'DET'), ('users', 'NOUN'), ('post', 'NOUN'), ('and', 'CONJ'), ('interact', 'NOUN'), ('with', 'ADP'), ('messages', 'DET'), ('known', 'ADJ'), ('as', 'ADP'), ('tweets', 'DET'), ('.', '.'), ('before', 'ADP'), ('entering', 'DET'), ('politics', 'NOUN'), (',', '.'), ('donald', 'NOUN'), ('trump', '.'), ('was', 'VERB'), ('a', 'DET'), ('domineering', 'NOUN'), ('businessman', 'NOUN'), ('and', 'CONJ'), ('a', 'DET'), ('television', 'NOUN'), ('personality', '.'), ('.', '.'), ('the', 'DET'), ('2018', 'NOUN'), ('fifa', '.'), ('world', 'NOUN'), ('cup', '.'), ('is', 'VERB'), ('the', 'DET'), ('21st', 'NOUN'), ('fifa', '.'), ('world', 'NOUN'), ('cup', '.'), (',', '.'), ('an', 'DET'), ('international', 'ADJ'), ('football', 'NOUN'), ('tournament', '.'), ('contested', 'NOUN'), ('once', 'ADV'), ('every', 'DET'), ('four', 'NUM'), ('years', 'NOUN'), ('.', '.'), ('this', 'DET'), ('is', 'VERB'), ('the', 'DET'), ('first', 'ADJ'), ('world', 'NOUN'), ('cup', '.'), ('to', 'PRT'), ('be', 'VERB'), ('held', 'VERB'), ('in', 'ADP'), ('eastern', 'DET'), ('europe', 'NOUN'), ('and', 'CONJ'), ('the', 'DET'), ('11th', 'ADJ'), ('time', 'NOUN'), ('that', 'ADP'), ('it', 'PRON'), ('has', 'VERB'), ('been', 'VERB'), ('held', 'VERB'), ('in', 'ADP'), ('europe', 'DET'), ('.', '.'), ('show', 'NOUN'), ('me', 'PRON'), ('the', 'DET'), ('cheapest', 'ADJ'), ('round', 'NOUN'), ('trips', '.'), ('from', 'ADP'), ('dallas', 'DET'), ('to', 'PRT'), ('atlanta', 'VERB'), ('i', 'X'), ('would', 'VERB'), ('like', 'ADP'), ('to', 'PRT'), ('see', 'VERB'), ('flights', 'NOUN'), ('from', 'ADP'), ('denver', 'DET'), ('to', 'PRT'), ('philadelphia', 'VERB'), ('.', '.'), ('show', 'NOUN'), ('me', 'PRON'), ('the', 'DET'), ('price', 'NOUN'), ('of', 'ADP'), ('the', 'DET'), ('flights', 'NOUN'), ('leaving', 'VERB'), ('atlanta', 'X'), ('at', 'ADP'), ('about', 'ADP'), ('3', 'NUM'), ('in', 'ADP'), ('the', 'DET'), ('afternoon', 'NOUN'), ('and', 'CONJ'), ('arriving', 'NOUN'), ('in', 'ADP'), ('san', 'DET'), ('francisco', 'NOUN'), ('.', '.'), ('nasa', 'NOUN'), ('invited', '.'), ('social', 'ADJ'), ('media', 'NOUN'), ('users', 'NOUN'), ('to', 'PRT'), ('experience', 'NOUN'), ('the', 'DET'), ('launch', 'NOUN'), ('of', 'ADP'), ('icesat-2', 'DET'), ('satellite', 'NOUN'), ('.', '.')]\n",
      "Time taken for executing the Algorithm in test set:  62.709978103637695\n"
     ]
    }
   ],
   "source": [
    "#Checking laplace smoothing on test set\n",
    "test_testing(Viterbi_modified,'laplace_smoothing')"
   ]
  },
  {
   "cell_type": "markdown",
   "metadata": {},
   "source": [
    "From the above test and validation sets, Most of the NOUN's are correctly tagged using Laplace smooting\n",
    "when compared to the default Vanilla method where all were tagged as 'X'.\n",
    "\n",
    "    android - tagged as 'NOUN' (earlier tagged as 'X' by Vanilla)\n",
    "    europe - tagged as 'NOUN' (earlier tagged as 'X' by Vanilla)\n",
    "    donald - tagged as 'NOUN' (earlier tagged as 'X' by Vanilla)\n",
    "    \n",
    "But in this laplace smooting technique, Non Nouns are incorrectly tagged but still it is good method for the desirble results compared to the Vanilla Viterbi technique.\n"
   ]
  },
  {
   "cell_type": "markdown",
   "metadata": {},
   "source": [
    "# Rule Based Taggers"
   ]
  },
  {
   "cell_type": "code",
   "execution_count": 27,
   "metadata": {},
   "outputs": [],
   "source": [
    "#Rule based taggers\n",
    "def rule_tagger(words,train_bag=train_set):\n",
    "    words = [words]\n",
    "    #Define the rules\n",
    "    rule_tagger = nltk.RegexpTagger(\n",
    "            [(r'.*-?[0-9]+(.[0-9]+)?$', 'NUM'),                     # Numerals\n",
    "             (r'(The|the|A|a|An|an)$', 'DET'),                      # articles\n",
    "             (r'.*able$|.*sive$|.*tion$', 'ADJ'),                   # adjectives \n",
    "             (r'.*ly$', 'ADV'),                                     # adverbs\n",
    "             (r'.*ing$|.*ed$|.*ould$', 'VERB'),                     # verbs\n",
    "             (r'(am|is|was|are|were|be|been|has|have|had)','VERB'), # verbs\n",
    "             (r'.*ness$|.*s$|.*|.*\\'s$|.*s$', 'NOUN')               # Nouns / Plural Nouns        \n",
    "            ])\n",
    "\n",
    "    #return the predicted tag and assign it to unknown word.\n",
    "    predicted_tag = rule_tagger.tag(words)[0][1]\n",
    "    return predicted_tag"
   ]
  },
  {
   "cell_type": "code",
   "execution_count": 28,
   "metadata": {
    "scrolled": true
   },
   "outputs": [
    {
     "name": "stdout",
     "output_type": "stream",
     "text": [
      "Default tag list is:  ['X', 'VERB', 'PRT', 'PRON', 'NUM', 'NOUN', 'DET', 'CONJ', 'ADV', 'ADP', 'ADJ', '.']\n",
      "Number of KNOWN words are: 12097\n",
      "Number of Unknown words are: 10\n",
      "Method used for tagging Unknown Words is: rule_tagger\n",
      "Tagged Unknown Words are: \n",
      "('seven-yen', 'NOUN')\n",
      "('pledged', 'VERB')\n",
      "('modernization', 'ADJ')\n",
      "('impeding', 'VERB')\n",
      "('*T*-117', 'NUM')\n",
      "('Jennison', 'NOUN')\n",
      "('7.79', 'NUM')\n",
      "('7.52', 'NUM')\n",
      "('7.60', 'NUM')\n",
      "('suddenly', 'ADV')\n",
      "Time taken to run the task:  15.729462146759033\n",
      "Prediction of Accuracy in Validation set is 92% \n"
     ]
    }
   ],
   "source": [
    "#Test the Rule based tagger on Validation Set\n",
    "validation_testing(Viterbi_modified,'rule_tagger')"
   ]
  },
  {
   "cell_type": "code",
   "execution_count": 29,
   "metadata": {},
   "outputs": [
    {
     "name": "stdout",
     "output_type": "stream",
     "text": [
      "Default tag list is:  ['X', 'VERB', 'PRT', 'PRON', 'NUM', 'NOUN', 'DET', 'CONJ', 'ADV', 'ADP', 'ADJ', '.']\n",
      "Number of KNOWN words are: 12097\n",
      "Number of Unknown words are: 49\n",
      "Method used for tagging Unknown Words is: rule_tagger\n",
      "Tagged Unknown Words are: \n",
      "('android', 'NOUN')\n",
      "('google', 'NOUN')\n",
      "('android', 'NOUN')\n",
      "('os', 'NOUN')\n",
      "('worldwide', 'NOUN')\n",
      "('smartphones', 'NOUN')\n",
      "('2011', 'NUM')\n",
      "('2013', 'NUM')\n",
      "('google', 'NOUN')\n",
      "('twitter', 'NOUN')\n",
      "('2015', 'NUM')\n",
      "('google', 'NOUN')\n",
      "('twitter', 'NOUN')\n",
      "('firehose', 'NOUN')\n",
      "('twitter', 'NOUN')\n",
      "('online', 'NOUN')\n",
      "('interact', 'NOUN')\n",
      "('messages', 'NOUN')\n",
      "('tweets', 'NOUN')\n",
      "('donald', 'NOUN')\n",
      "('trump', 'NOUN')\n",
      "('domineering', 'VERB')\n",
      "('personality', 'NOUN')\n",
      "('2018', 'NUM')\n",
      "('fifa', 'NOUN')\n",
      "('cup', 'NOUN')\n",
      "('21st', 'NOUN')\n",
      "('fifa', 'NOUN')\n",
      "('cup', 'NOUN')\n",
      "('tournament', 'NOUN')\n",
      "('contested', 'VERB')\n",
      "('cup', 'NOUN')\n",
      "('eastern', 'NOUN')\n",
      "('europe', 'NOUN')\n",
      "('europe', 'NOUN')\n",
      "('trips', 'NOUN')\n",
      "('dallas', 'NOUN')\n",
      "('atlanta', 'NOUN')\n",
      "('i', 'NOUN')\n",
      "('denver', 'NOUN')\n",
      "('philadelphia', 'NOUN')\n",
      "('atlanta', 'NOUN')\n",
      "('arriving', 'VERB')\n",
      "('san', 'NOUN')\n",
      "('francisco', 'NOUN')\n",
      "('nasa', 'NOUN')\n",
      "('invited', 'VERB')\n",
      "('icesat-2', 'NUM')\n",
      "('satellite', 'NOUN')\n",
      "\n",
      "Tagged words in the Test Set are:\n",
      "\n",
      "[('android', 'NOUN'), ('is', 'VERB'), ('a', 'DET'), ('mobile', 'ADJ'), ('operating', 'NOUN'), ('system', 'NOUN'), ('developed', 'VERB'), ('by', 'ADP'), ('google', 'NOUN'), ('.', '.'), ('android', 'NOUN'), ('has', 'VERB'), ('been', 'VERB'), ('the', 'DET'), ('best-selling', 'ADJ'), ('os', 'NOUN'), ('worldwide', 'NOUN'), ('on', 'ADP'), ('smartphones', 'NOUN'), ('since', 'ADP'), ('2011', 'NUM'), ('and', 'CONJ'), ('on', 'ADP'), ('tablets', 'NOUN'), ('since', 'ADP'), ('2013', 'NUM'), ('.', '.'), ('google', 'NOUN'), ('and', 'CONJ'), ('twitter', 'NOUN'), ('made', 'VERB'), ('a', 'DET'), ('deal', 'NOUN'), ('in', 'ADP'), ('2015', 'NUM'), ('that', 'ADP'), ('gave', 'VERB'), ('google', 'NOUN'), ('access', 'NOUN'), ('to', 'PRT'), ('twitter', 'NOUN'), (\"'s\", 'PRT'), ('firehose', 'NOUN'), ('.', '.'), ('twitter', 'NOUN'), ('is', 'VERB'), ('an', 'DET'), ('online', 'NOUN'), ('news', 'NOUN'), ('and', 'CONJ'), ('social', 'ADJ'), ('networking', 'NOUN'), ('service', 'NOUN'), ('on', 'ADP'), ('which', 'DET'), ('users', 'NOUN'), ('post', 'NOUN'), ('and', 'CONJ'), ('interact', 'NOUN'), ('with', 'ADP'), ('messages', 'NOUN'), ('known', 'VERB'), ('as', 'ADP'), ('tweets', 'NOUN'), ('.', '.'), ('before', 'ADP'), ('entering', 'VERB'), ('politics', 'NOUN'), (',', '.'), ('donald', 'NOUN'), ('trump', 'NOUN'), ('was', 'VERB'), ('a', 'DET'), ('domineering', 'VERB'), ('businessman', 'NOUN'), ('and', 'CONJ'), ('a', 'DET'), ('television', 'NOUN'), ('personality', 'NOUN'), ('.', '.'), ('the', 'DET'), ('2018', 'NUM'), ('fifa', 'NOUN'), ('world', 'NOUN'), ('cup', 'NOUN'), ('is', 'VERB'), ('the', 'DET'), ('21st', 'NOUN'), ('fifa', 'NOUN'), ('world', 'NOUN'), ('cup', 'NOUN'), (',', '.'), ('an', 'DET'), ('international', 'ADJ'), ('football', 'NOUN'), ('tournament', 'NOUN'), ('contested', 'VERB'), ('once', 'ADV'), ('every', 'DET'), ('four', 'NUM'), ('years', 'NOUN'), ('.', '.'), ('this', 'DET'), ('is', 'VERB'), ('the', 'DET'), ('first', 'ADJ'), ('world', 'NOUN'), ('cup', 'NOUN'), ('to', 'PRT'), ('be', 'VERB'), ('held', 'VERB'), ('in', 'ADP'), ('eastern', 'NOUN'), ('europe', 'NOUN'), ('and', 'CONJ'), ('the', 'DET'), ('11th', 'ADJ'), ('time', 'NOUN'), ('that', 'ADP'), ('it', 'PRON'), ('has', 'VERB'), ('been', 'VERB'), ('held', 'VERB'), ('in', 'ADP'), ('europe', 'NOUN'), ('.', '.'), ('show', 'NOUN'), ('me', 'PRON'), ('the', 'DET'), ('cheapest', 'ADJ'), ('round', 'NOUN'), ('trips', 'NOUN'), ('from', 'ADP'), ('dallas', 'NOUN'), ('to', 'PRT'), ('atlanta', 'NOUN'), ('i', 'NOUN'), ('would', 'VERB'), ('like', 'ADP'), ('to', 'PRT'), ('see', 'VERB'), ('flights', 'NOUN'), ('from', 'ADP'), ('denver', 'NOUN'), ('to', 'PRT'), ('philadelphia', 'NOUN'), ('.', '.'), ('show', 'NOUN'), ('me', 'PRON'), ('the', 'DET'), ('price', 'NOUN'), ('of', 'ADP'), ('the', 'DET'), ('flights', 'NOUN'), ('leaving', 'VERB'), ('atlanta', 'NOUN'), ('at', 'ADP'), ('about', 'ADP'), ('3', 'NUM'), ('in', 'ADP'), ('the', 'DET'), ('afternoon', 'NOUN'), ('and', 'CONJ'), ('arriving', 'VERB'), ('in', 'ADP'), ('san', 'NOUN'), ('francisco', 'NOUN'), ('.', '.'), ('nasa', 'NOUN'), ('invited', 'VERB'), ('social', 'ADJ'), ('media', 'NOUN'), ('users', 'NOUN'), ('to', 'PRT'), ('experience', 'NOUN'), ('the', 'DET'), ('launch', 'NOUN'), ('of', 'ADP'), ('icesat-2', 'NUM'), ('satellite', 'NOUN'), ('.', '.')]\n",
      "Time taken for executing the Algorithm in test set:  23.49422001838684\n"
     ]
    }
   ],
   "source": [
    "#Test rule based tagger on Test set\n",
    "test_testing(Viterbi_modified,'rule_tagger')"
   ]
  },
  {
   "cell_type": "markdown",
   "metadata": {},
   "source": [
    "## The accuracy is jumped from  87% to 92% which is a big leap.Rule based tagging is the best among the methods till now.\n",
    "\n",
    "As we can see words like:\n",
    "\n",
    "    2011, 2013 are now accurately assigned NUM tag (earlier tagged as 'X' by Vanilla)\n",
    "\n",
    "    modernization is correctly assigned ADJ (earlier tagged as 'X' by Vanilla)\n",
    "\n",
    "    suddenly is correctly assigned ADV (earlier tagged as 'X' by Vanilla)"
   ]
  },
  {
   "cell_type": "markdown",
   "metadata": {},
   "source": [
    "## ngram Tagging"
   ]
  },
  {
   "cell_type": "code",
   "execution_count": 30,
   "metadata": {},
   "outputs": [],
   "source": [
    "#Defining Second method  - ngram tagging\n",
    "# in this fucntion we will be using the ngram - 1 - uni, 2- bi, 3- tri and method \n",
    "def ngram_Tagger(words,n=2, train_sents=train_set, train_bag=train_tagged_words): \n",
    "    \n",
    "    defaultTag = rule_tagger(words)\n",
    "\n",
    "    t0 = nltk.DefaultTagger(defaultTag)\n",
    "    \n",
    "    if (n <= 0):\n",
    "        return t0\n",
    "    \n",
    "    #Unigram tagger fall back to default\n",
    "    elif (n == 1):\n",
    "        t1 = nltk.UnigramTagger(train_sents, backoff=t0)\n",
    "        predicted_tag = t1.tag(words)[0][1]\n",
    "        return predicted_tag\n",
    "    \n",
    "    #Bigram Tagger fall back to Unigram\n",
    "    elif (n == 2):\n",
    "        t1 = nltk.UnigramTagger(train_sents, backoff=t0)\n",
    "        t2 = nltk.BigramTagger(train_sents, backoff=t1)\n",
    "        predicted_tag = t2.tag(words)[0][1]\n",
    "        return predicted_tag\n",
    "    \n",
    "    #trigram fallback to bigram\n",
    "    else:\n",
    "        t1 = nltk.UnigramTagger(train_sents, backoff=t0)\n",
    "        t2 = nltk.BigramTagger(train_sents, backoff=t1)\n",
    "        t3 = nltk.TrigramTagger(train_sents, backoff=t2)\n",
    "        predicted_tag = t3.tag(words)[0][1]\n",
    "        return predicted_tag"
   ]
  },
  {
   "cell_type": "code",
   "execution_count": 31,
   "metadata": {},
   "outputs": [
    {
     "name": "stdout",
     "output_type": "stream",
     "text": [
      "Default tag list is:  ['X', 'VERB', 'PRT', 'PRON', 'NUM', 'NOUN', 'DET', 'CONJ', 'ADV', 'ADP', 'ADJ', '.']\n",
      "Number of KNOWN words are: 12097\n",
      "Number of Unknown words are: 10\n",
      "Method used for tagging Unknown Words is: ngram_Tagger\n",
      "Tagged Unknown Words are: \n",
      "('seven-yen', 'NOUN')\n",
      "('pledged', 'VERB')\n",
      "('modernization', 'ADJ')\n",
      "('impeding', 'VERB')\n",
      "('*T*-117', 'X')\n",
      "('Jennison', 'NOUN')\n",
      "('7.79', 'NUM')\n",
      "('7.52', 'NUM')\n",
      "('7.60', 'NUM')\n",
      "('suddenly', 'ADV')\n",
      "Time taken to run the task:  27.30229902267456\n",
      "Prediction of Accuracy in Validation set is 93% \n"
     ]
    }
   ],
   "source": [
    "#checking the Ngram tagger on the Validation set with Modified viterbi \n",
    "validation_testing(Viterbi_modified,'ngram_Tagger')\n"
   ]
  },
  {
   "cell_type": "code",
   "execution_count": 32,
   "metadata": {
    "scrolled": true
   },
   "outputs": [
    {
     "name": "stdout",
     "output_type": "stream",
     "text": [
      "Default tag list is:  ['X', 'VERB', 'PRT', 'PRON', 'NUM', 'NOUN', 'DET', 'CONJ', 'ADV', 'ADP', 'ADJ', '.']\n",
      "Number of KNOWN words are: 12097\n",
      "Number of Unknown words are: 49\n",
      "Method used for tagging Unknown Words is: ngram_Tagger\n",
      "Tagged Unknown Words are: \n",
      "('android', 'X')\n",
      "('google', 'NOUN')\n",
      "('android', 'X')\n",
      "('os', 'NOUN')\n",
      "('worldwide', 'NOUN')\n",
      "('smartphones', 'NOUN')\n",
      "('2011', 'X')\n",
      "('2013', 'X')\n",
      "('google', 'NOUN')\n",
      "('twitter', 'NOUN')\n",
      "('2015', 'X')\n",
      "('google', 'NOUN')\n",
      "('twitter', 'NOUN')\n",
      "('firehose', 'NOUN')\n",
      "('twitter', 'NOUN')\n",
      "('online', 'NOUN')\n",
      "('interact', 'NOUN')\n",
      "('messages', 'NOUN')\n",
      "('tweets', 'NOUN')\n",
      "('donald', 'NOUN')\n",
      "('trump', 'NOUN')\n",
      "('domineering', 'VERB')\n",
      "('personality', 'NOUN')\n",
      "('2018', 'X')\n",
      "('fifa', 'NOUN')\n",
      "('cup', 'NOUN')\n",
      "('21st', 'X')\n",
      "('fifa', 'NOUN')\n",
      "('cup', 'NOUN')\n",
      "('tournament', 'NOUN')\n",
      "('contested', 'VERB')\n",
      "('cup', 'NOUN')\n",
      "('eastern', 'NOUN')\n",
      "('europe', 'NOUN')\n",
      "('europe', 'NOUN')\n",
      "('trips', 'NOUN')\n",
      "('dallas', 'NOUN')\n",
      "('atlanta', 'X')\n",
      "('i', 'NOUN')\n",
      "('denver', 'NOUN')\n",
      "('philadelphia', 'NOUN')\n",
      "('atlanta', 'X')\n",
      "('arriving', 'X')\n",
      "('san', 'NOUN')\n",
      "('francisco', 'NOUN')\n",
      "('nasa', 'NOUN')\n",
      "('invited', 'VERB')\n",
      "('icesat-2', 'NUM')\n",
      "('satellite', 'NOUN')\n",
      "\n",
      "Tagged words in the Test Set are:\n",
      "\n",
      "[('android', 'X'), ('is', 'VERB'), ('a', 'DET'), ('mobile', 'ADJ'), ('operating', 'NOUN'), ('system', 'NOUN'), ('developed', 'VERB'), ('by', 'ADP'), ('google', 'NOUN'), ('.', '.'), ('android', 'X'), ('has', 'VERB'), ('been', 'VERB'), ('the', 'DET'), ('best-selling', 'ADJ'), ('os', 'NOUN'), ('worldwide', 'NOUN'), ('on', 'ADP'), ('smartphones', 'NOUN'), ('since', 'ADP'), ('2011', 'X'), ('and', 'CONJ'), ('on', 'ADP'), ('tablets', 'NOUN'), ('since', 'ADP'), ('2013', 'X'), ('.', '.'), ('google', 'NOUN'), ('and', 'CONJ'), ('twitter', 'NOUN'), ('made', 'VERB'), ('a', 'DET'), ('deal', 'NOUN'), ('in', 'ADP'), ('2015', 'X'), ('that', 'ADP'), ('gave', 'VERB'), ('google', 'NOUN'), ('access', 'NOUN'), ('to', 'PRT'), ('twitter', 'NOUN'), (\"'s\", 'PRT'), ('firehose', 'NOUN'), ('.', '.'), ('twitter', 'NOUN'), ('is', 'VERB'), ('an', 'DET'), ('online', 'NOUN'), ('news', 'NOUN'), ('and', 'CONJ'), ('social', 'ADJ'), ('networking', 'NOUN'), ('service', 'NOUN'), ('on', 'ADP'), ('which', 'DET'), ('users', 'NOUN'), ('post', 'NOUN'), ('and', 'CONJ'), ('interact', 'NOUN'), ('with', 'ADP'), ('messages', 'NOUN'), ('known', 'VERB'), ('as', 'ADP'), ('tweets', 'NOUN'), ('.', '.'), ('before', 'ADP'), ('entering', 'VERB'), ('politics', 'NOUN'), (',', '.'), ('donald', 'NOUN'), ('trump', 'NOUN'), ('was', 'VERB'), ('a', 'DET'), ('domineering', 'VERB'), ('businessman', 'NOUN'), ('and', 'CONJ'), ('a', 'DET'), ('television', 'NOUN'), ('personality', 'NOUN'), ('.', '.'), ('the', 'DET'), ('2018', 'X'), ('fifa', 'NOUN'), ('world', 'NOUN'), ('cup', 'NOUN'), ('is', 'VERB'), ('the', 'DET'), ('21st', 'X'), ('fifa', 'NOUN'), ('world', 'NOUN'), ('cup', 'NOUN'), (',', '.'), ('an', 'DET'), ('international', 'ADJ'), ('football', 'NOUN'), ('tournament', 'NOUN'), ('contested', 'VERB'), ('once', 'ADV'), ('every', 'DET'), ('four', 'NUM'), ('years', 'NOUN'), ('.', '.'), ('this', 'DET'), ('is', 'VERB'), ('the', 'DET'), ('first', 'ADJ'), ('world', 'NOUN'), ('cup', 'NOUN'), ('to', 'PRT'), ('be', 'VERB'), ('held', 'VERB'), ('in', 'ADP'), ('eastern', 'NOUN'), ('europe', 'NOUN'), ('and', 'CONJ'), ('the', 'DET'), ('11th', 'ADJ'), ('time', 'NOUN'), ('that', 'ADP'), ('it', 'PRON'), ('has', 'VERB'), ('been', 'VERB'), ('held', 'VERB'), ('in', 'ADP'), ('europe', 'NOUN'), ('.', '.'), ('show', 'NOUN'), ('me', 'PRON'), ('the', 'DET'), ('cheapest', 'ADJ'), ('round', 'NOUN'), ('trips', 'NOUN'), ('from', 'ADP'), ('dallas', 'NOUN'), ('to', 'PRT'), ('atlanta', 'X'), ('i', 'NOUN'), ('would', 'VERB'), ('like', 'ADP'), ('to', 'PRT'), ('see', 'VERB'), ('flights', 'NOUN'), ('from', 'ADP'), ('denver', 'NOUN'), ('to', 'PRT'), ('philadelphia', 'NOUN'), ('.', '.'), ('show', 'NOUN'), ('me', 'PRON'), ('the', 'DET'), ('price', 'NOUN'), ('of', 'ADP'), ('the', 'DET'), ('flights', 'NOUN'), ('leaving', 'VERB'), ('atlanta', 'X'), ('at', 'ADP'), ('about', 'ADP'), ('3', 'NUM'), ('in', 'ADP'), ('the', 'DET'), ('afternoon', 'NOUN'), ('and', 'CONJ'), ('arriving', 'X'), ('in', 'ADP'), ('san', 'NOUN'), ('francisco', 'NOUN'), ('.', '.'), ('nasa', 'NOUN'), ('invited', 'VERB'), ('social', 'ADJ'), ('media', 'NOUN'), ('users', 'NOUN'), ('to', 'PRT'), ('experience', 'NOUN'), ('the', 'DET'), ('launch', 'NOUN'), ('of', 'ADP'), ('icesat-2', 'NUM'), ('satellite', 'NOUN'), ('.', '.')]\n",
      "Time taken for executing the Algorithm in test set:  85.50889801979065\n"
     ]
    }
   ],
   "source": [
    "#checking the ngram tagger on Test set  with Modified viterbi \n",
    "test_testing(Viterbi_modified,'ngram_Tagger')"
   ]
  },
  {
   "cell_type": "markdown",
   "metadata": {},
   "source": [
    "From the Above, we can see that the words are tagged properly.\n",
    "\n",
    "    arriving - correctly tagged as VERB (earlier tagged as 'X' by Vanilla)\n",
    "    contested - correctly tagged as VERB (earlier tagged as 'X' by Vanilla)\n",
    "    dallas - correctly tagged as NOUN (earlier tagged as 'X' by Vanilla)\n",
    "\n",
    "As you can see android is tagged as 'X' which seems to be good even in this context since although a NOUN it is more like a foriegn word/abbrevation here in this context.\n",
    "\n",
    "Hence ngram approach works way better than all the other methods.\n",
    "\n"
   ]
  },
  {
   "cell_type": "markdown",
   "metadata": {},
   "source": [
    "# Observations"
   ]
  },
  {
   "cell_type": "code",
   "execution_count": 33,
   "metadata": {},
   "outputs": [],
   "source": [
    "#Make a dataframe of all the methods and accuracies noted earlier\n",
    "method_accuracy = pd.DataFrame(list(map(list, zip(method_list,accuracy_list))), columns = ['method','accuracy'])"
   ]
  },
  {
   "cell_type": "code",
   "execution_count": 34,
   "metadata": {},
   "outputs": [
    {
     "data": {
      "text/html": [
       "<div>\n",
       "<style scoped>\n",
       "    .dataframe tbody tr th:only-of-type {\n",
       "        vertical-align: middle;\n",
       "    }\n",
       "\n",
       "    .dataframe tbody tr th {\n",
       "        vertical-align: top;\n",
       "    }\n",
       "\n",
       "    .dataframe thead th {\n",
       "        text-align: right;\n",
       "    }\n",
       "</style>\n",
       "<table border=\"1\" class=\"dataframe\">\n",
       "  <thead>\n",
       "    <tr style=\"text-align: right;\">\n",
       "      <th></th>\n",
       "      <th>method</th>\n",
       "      <th>accuracy</th>\n",
       "    </tr>\n",
       "  </thead>\n",
       "  <tbody>\n",
       "    <tr>\n",
       "      <td>0</td>\n",
       "      <td>Vanilla</td>\n",
       "      <td>87</td>\n",
       "    </tr>\n",
       "    <tr>\n",
       "      <td>1</td>\n",
       "      <td>laplace_smoothing</td>\n",
       "      <td>87</td>\n",
       "    </tr>\n",
       "    <tr>\n",
       "      <td>2</td>\n",
       "      <td>rule_tagger</td>\n",
       "      <td>92</td>\n",
       "    </tr>\n",
       "    <tr>\n",
       "      <td>3</td>\n",
       "      <td>ngram_Tagger</td>\n",
       "      <td>93</td>\n",
       "    </tr>\n",
       "  </tbody>\n",
       "</table>\n",
       "</div>"
      ],
      "text/plain": [
       "              method  accuracy\n",
       "0            Vanilla        87\n",
       "1  laplace_smoothing        87\n",
       "2        rule_tagger        92\n",
       "3       ngram_Tagger        93"
      ]
     },
     "execution_count": 34,
     "metadata": {},
     "output_type": "execute_result"
    }
   ],
   "source": [
    "method_accuracy"
   ]
  },
  {
   "cell_type": "code",
   "execution_count": 35,
   "metadata": {},
   "outputs": [
    {
     "data": {
      "image/png": "[encoded data removed]",
      "text/plain": [
       "<Figure size 864x360 with 1 Axes>"
      ]
     },
     "metadata": {
      "needs_background": "light"
     },
     "output_type": "display_data"
    }
   ],
   "source": [
    "#Plot and check the methods accuracies\n",
    "plt.figure(figsize=(12,5))\n",
    "plt.grid(color='g', linestyle='-', linewidth=1)\n",
    "ax=sns.barplot(x=\"method\", y=\"accuracy\", data=method_accuracy,palette='deep')\n",
    "ax.axes.set_title(\"Methods v/s Accuracy\",fontsize=20);\n",
    "ax.set_xlabel(\"Methods for handling unknown words\",fontsize=10);\n",
    "ax.set_ylabel(\"Accuracy\",fontsize=10);"
   ]
  },
  {
   "cell_type": "code",
   "execution_count": 36,
   "metadata": {
    "scrolled": true
   },
   "outputs": [
    {
     "data": {
      "image/png": "[encoded data removed]",
      "text/plain": [
       "<Figure size 720x360 with 1 Axes>"
      ]
     },
     "metadata": {
      "needs_background": "light"
     },
     "output_type": "display_data"
    }
   ],
   "source": [
    "#Plot and check the method accuracies\n",
    "plt.figure(figsize=(10,5))\n",
    "plt.grid(color='g', linestyle='-', linewidth=1)\n",
    "ax = sns.lineplot(x=\"method\", y=\"accuracy\", data=method_accuracy,color='red')\n",
    "ax.axes.set_title(\"Methods v/s Accuracy\",fontsize=20);\n",
    "ax.set_xlabel(\"Methods for handling unknown words\",fontsize=10);\n",
    "ax.set_ylabel(\"Accuracy\",fontsize=10);"
   ]
  },
  {
   "cell_type": "markdown",
   "metadata": {},
   "source": [
    "### List down cases which were incorrectly tagged by original POS tagger and got corrected by your modifications"
   ]
  },
  {
   "cell_type": "markdown",
   "metadata": {},
   "source": [
    "We have build Three techniques with laplace, rule based tagging and ngram tagger and the following are the some of observations we have seen:\n",
    "\n",
    "The Laplace smoothing has mostly tagged Nouns correctly when compared to the Vanilla but it failed to tag the verbs and other are incorrectly.\n",
    "some of the obervations with the laplace smooting are:\n",
    "    \n",
    "    android - tagged as 'NOUN' (earlier tagged as 'X' by Vanilla)\n",
    "    europe - tagged as 'NOUN' (earlier tagged as 'X' by Vanilla)\n",
    "    donald - tagged as 'NOUN' (earlier tagged as 'X' by Vanilla)\n",
    "\n",
    "The accuracy is jumped from 87% to 92% which is a big leap.Rule based tagging is the best among the methods till now.\n",
    "\n",
    "    2011, 2013 are now accurately assigned NUM tag (earlier tagged as 'X' by Vanilla)\n",
    "    modernization is correctly assigned ADJ (earlier tagged as 'X' by Vanilla)\n",
    "    suddenly is correctly assigned ADV (earlier tagged as 'X' by Vanilla)\n",
    "\n",
    "The ngram technique ahs tagged Verb and nouns are corrctly when compared to the vanilla viterbi and achieved the accuracy of 93%.\n",
    "Some of the observations with the ngram technique are:\n",
    "\n",
    "    arriving - correctly tagged as VERB (earlier tagged as 'X' by Vanilla)\n",
    "    contested - correctly tagged as VERB (earlier tagged as 'X' by Vanilla)\n",
    "    dallas - correctly tagged as NOUN (earlier tagged as 'X' by Vanilla)\n"
   ]
  },
  {
   "cell_type": "code",
   "execution_count": null,
   "metadata": {},
   "outputs": [],
   "source": []
  }
 ],
 "metadata": {
  "kernelspec": {
   "display_name": "Python 3",
   "language": "python",
   "name": "python3"
  },
  "language_info": {
   "codemirror_mode": {
    "name": "ipython",
    "version": 3
   },
   "file_extension": ".py",
   "mimetype": "text/x-python",
   "name": "python",
   "nbconvert_exporter": "python",
   "pygments_lexer": "ipython3",
   "version": "3.7.4"
  }
 },
 "nbformat": 4,
 "nbformat_minor": 2
}
